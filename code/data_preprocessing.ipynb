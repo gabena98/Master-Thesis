{
 "cells": [
  {
   "cell_type": "markdown",
   "metadata": {},
   "source": [
    "# Data preprocessing\n"
   ]
  },
  {
   "cell_type": "code",
   "execution_count": 1,
   "metadata": {},
   "outputs": [],
   "source": [
    "# import diagnosis_icd dataset\n",
    "import pandas as pd\n",
    "import matplotlib.pyplot as plt"
   ]
  },
  {
   "cell_type": "markdown",
   "metadata": {},
   "source": [
    "## Import admission dataset"
   ]
  },
  {
   "cell_type": "code",
   "execution_count": 2,
   "metadata": {},
   "outputs": [
    {
     "name": "stdout",
     "output_type": "stream",
     "text": [
      "<class 'pandas.core.frame.DataFrame'>\n",
      "RangeIndex: 546028 entries, 0 to 546027\n",
      "Data columns (total 16 columns):\n",
      " #   Column                Non-Null Count   Dtype \n",
      "---  ------                --------------   ----- \n",
      " 0   subject_id            546028 non-null  int64 \n",
      " 1   hadm_id               546028 non-null  int64 \n",
      " 2   admittime             546028 non-null  object\n",
      " 3   dischtime             546028 non-null  object\n",
      " 4   deathtime             11790 non-null   object\n",
      " 5   admission_type        546028 non-null  object\n",
      " 6   admit_provider_id     546024 non-null  object\n",
      " 7   admission_location    546027 non-null  object\n",
      " 8   discharge_location    396210 non-null  object\n",
      " 9   insurance             536673 non-null  object\n",
      " 10  language              545253 non-null  object\n",
      " 11  marital_status        532409 non-null  object\n",
      " 12  race                  546028 non-null  object\n",
      " 13  edregtime             379240 non-null  object\n",
      " 14  edouttime             379240 non-null  object\n",
      " 15  hospital_expire_flag  546028 non-null  int64 \n",
      "dtypes: int64(3), object(13)\n",
      "memory usage: 66.7+ MB\n"
     ]
    }
   ],
   "source": [
    "admissions = pd.read_csv('../data/physionet.org/files/mimiciv/3.1/hosp/admissions.csv')\n",
    "admissions.info()"
   ]
  },
  {
   "cell_type": "code",
   "execution_count": 3,
   "metadata": {},
   "outputs": [
    {
     "data": {
      "application/vnd.microsoft.datawrangler.viewer.v0+json": {
       "columns": [
        {
         "name": "index",
         "rawType": "int64",
         "type": "integer"
        },
        {
         "name": "subject_id",
         "rawType": "int64",
         "type": "integer"
        },
        {
         "name": "hadm_id",
         "rawType": "int64",
         "type": "integer"
        },
        {
         "name": "admittime",
         "rawType": "object",
         "type": "string"
        },
        {
         "name": "dischtime",
         "rawType": "object",
         "type": "string"
        },
        {
         "name": "deathtime",
         "rawType": "object",
         "type": "unknown"
        },
        {
         "name": "admission_type",
         "rawType": "object",
         "type": "string"
        },
        {
         "name": "admit_provider_id",
         "rawType": "object",
         "type": "string"
        },
        {
         "name": "admission_location",
         "rawType": "object",
         "type": "string"
        },
        {
         "name": "discharge_location",
         "rawType": "object",
         "type": "unknown"
        },
        {
         "name": "insurance",
         "rawType": "object",
         "type": "unknown"
        },
        {
         "name": "language",
         "rawType": "object",
         "type": "string"
        },
        {
         "name": "marital_status",
         "rawType": "object",
         "type": "string"
        },
        {
         "name": "race",
         "rawType": "object",
         "type": "string"
        },
        {
         "name": "edregtime",
         "rawType": "object",
         "type": "string"
        },
        {
         "name": "edouttime",
         "rawType": "object",
         "type": "string"
        },
        {
         "name": "hospital_expire_flag",
         "rawType": "int64",
         "type": "integer"
        }
       ],
       "ref": "2937d858-a947-4414-a7a8-43aff044805a",
       "rows": [
        [
         "0",
         "10000032",
         "22595853",
         "2180-05-06 22:23:00",
         "2180-05-07 17:15:00",
         null,
         "URGENT",
         "P49AFC",
         "TRANSFER FROM HOSPITAL",
         "HOME",
         "Medicaid",
         "English",
         "WIDOWED",
         "WHITE",
         "2180-05-06 19:17:00",
         "2180-05-06 23:30:00",
         "0"
        ],
        [
         "1",
         "10000032",
         "22841357",
         "2180-06-26 18:27:00",
         "2180-06-27 18:49:00",
         null,
         "EW EMER.",
         "P784FA",
         "EMERGENCY ROOM",
         "HOME",
         "Medicaid",
         "English",
         "WIDOWED",
         "WHITE",
         "2180-06-26 15:54:00",
         "2180-06-26 21:31:00",
         "0"
        ],
        [
         "2",
         "10000032",
         "25742920",
         "2180-08-05 23:44:00",
         "2180-08-07 17:50:00",
         null,
         "EW EMER.",
         "P19UTS",
         "EMERGENCY ROOM",
         "HOSPICE",
         "Medicaid",
         "English",
         "WIDOWED",
         "WHITE",
         "2180-08-05 20:58:00",
         "2180-08-06 01:44:00",
         "0"
        ],
        [
         "3",
         "10000032",
         "29079034",
         "2180-07-23 12:35:00",
         "2180-07-25 17:55:00",
         null,
         "EW EMER.",
         "P06OTX",
         "EMERGENCY ROOM",
         "HOME",
         "Medicaid",
         "English",
         "WIDOWED",
         "WHITE",
         "2180-07-23 05:54:00",
         "2180-07-23 14:00:00",
         "0"
        ],
        [
         "4",
         "10000068",
         "25022803",
         "2160-03-03 23:16:00",
         "2160-03-04 06:26:00",
         null,
         "EU OBSERVATION",
         "P39NWO",
         "EMERGENCY ROOM",
         null,
         null,
         "English",
         "SINGLE",
         "WHITE",
         "2160-03-03 21:55:00",
         "2160-03-04 06:26:00",
         "0"
        ],
        [
         "5",
         "10000084",
         "23052089",
         "2160-11-21 01:56:00",
         "2160-11-25 14:52:00",
         null,
         "EW EMER.",
         "P42H7G",
         "WALK-IN/SELF REFERRAL",
         "HOME HEALTH CARE",
         "Medicare",
         "English",
         "MARRIED",
         "WHITE",
         "2160-11-20 20:36:00",
         "2160-11-21 03:20:00",
         "0"
        ],
        [
         "6",
         "10000084",
         "29888819",
         "2160-12-28 05:11:00",
         "2160-12-28 16:07:00",
         null,
         "EU OBSERVATION",
         "P35NE4",
         "PHYSICIAN REFERRAL",
         null,
         "Medicare",
         "English",
         "MARRIED",
         "WHITE",
         "2160-12-27 18:32:00",
         "2160-12-28 16:07:00",
         "0"
        ],
        [
         "7",
         "10000108",
         "27250926",
         "2163-09-27 23:17:00",
         "2163-09-28 09:04:00",
         null,
         "EU OBSERVATION",
         "P40JML",
         "EMERGENCY ROOM",
         null,
         null,
         "English",
         "SINGLE",
         "WHITE",
         "2163-09-27 16:18:00",
         "2163-09-28 09:04:00",
         "0"
        ],
        [
         "8",
         "10000117",
         "22927623",
         "2181-11-15 02:05:00",
         "2181-11-15 14:52:00",
         null,
         "EU OBSERVATION",
         "P47EY8",
         "EMERGENCY ROOM",
         null,
         "Medicaid",
         "English",
         "DIVORCED",
         "WHITE",
         "2181-11-14 21:51:00",
         "2181-11-15 09:57:00",
         "0"
        ],
        [
         "9",
         "10000117",
         "27988844",
         "2183-09-18 18:10:00",
         "2183-09-21 16:30:00",
         null,
         "OBSERVATION ADMIT",
         "P13ACE",
         "WALK-IN/SELF REFERRAL",
         "HOME HEALTH CARE",
         "Medicaid",
         "English",
         "DIVORCED",
         "WHITE",
         "2183-09-18 08:41:00",
         "2183-09-18 20:20:00",
         "0"
        ]
       ],
       "shape": {
        "columns": 16,
        "rows": 10
       }
      },
      "text/html": [
       "<div>\n",
       "<style scoped>\n",
       "    .dataframe tbody tr th:only-of-type {\n",
       "        vertical-align: middle;\n",
       "    }\n",
       "\n",
       "    .dataframe tbody tr th {\n",
       "        vertical-align: top;\n",
       "    }\n",
       "\n",
       "    .dataframe thead th {\n",
       "        text-align: right;\n",
       "    }\n",
       "</style>\n",
       "<table border=\"1\" class=\"dataframe\">\n",
       "  <thead>\n",
       "    <tr style=\"text-align: right;\">\n",
       "      <th></th>\n",
       "      <th>subject_id</th>\n",
       "      <th>hadm_id</th>\n",
       "      <th>admittime</th>\n",
       "      <th>dischtime</th>\n",
       "      <th>deathtime</th>\n",
       "      <th>admission_type</th>\n",
       "      <th>admit_provider_id</th>\n",
       "      <th>admission_location</th>\n",
       "      <th>discharge_location</th>\n",
       "      <th>insurance</th>\n",
       "      <th>language</th>\n",
       "      <th>marital_status</th>\n",
       "      <th>race</th>\n",
       "      <th>edregtime</th>\n",
       "      <th>edouttime</th>\n",
       "      <th>hospital_expire_flag</th>\n",
       "    </tr>\n",
       "  </thead>\n",
       "  <tbody>\n",
       "    <tr>\n",
       "      <th>0</th>\n",
       "      <td>10000032</td>\n",
       "      <td>22595853</td>\n",
       "      <td>2180-05-06 22:23:00</td>\n",
       "      <td>2180-05-07 17:15:00</td>\n",
       "      <td>NaN</td>\n",
       "      <td>URGENT</td>\n",
       "      <td>P49AFC</td>\n",
       "      <td>TRANSFER FROM HOSPITAL</td>\n",
       "      <td>HOME</td>\n",
       "      <td>Medicaid</td>\n",
       "      <td>English</td>\n",
       "      <td>WIDOWED</td>\n",
       "      <td>WHITE</td>\n",
       "      <td>2180-05-06 19:17:00</td>\n",
       "      <td>2180-05-06 23:30:00</td>\n",
       "      <td>0</td>\n",
       "    </tr>\n",
       "    <tr>\n",
       "      <th>1</th>\n",
       "      <td>10000032</td>\n",
       "      <td>22841357</td>\n",
       "      <td>2180-06-26 18:27:00</td>\n",
       "      <td>2180-06-27 18:49:00</td>\n",
       "      <td>NaN</td>\n",
       "      <td>EW EMER.</td>\n",
       "      <td>P784FA</td>\n",
       "      <td>EMERGENCY ROOM</td>\n",
       "      <td>HOME</td>\n",
       "      <td>Medicaid</td>\n",
       "      <td>English</td>\n",
       "      <td>WIDOWED</td>\n",
       "      <td>WHITE</td>\n",
       "      <td>2180-06-26 15:54:00</td>\n",
       "      <td>2180-06-26 21:31:00</td>\n",
       "      <td>0</td>\n",
       "    </tr>\n",
       "    <tr>\n",
       "      <th>2</th>\n",
       "      <td>10000032</td>\n",
       "      <td>25742920</td>\n",
       "      <td>2180-08-05 23:44:00</td>\n",
       "      <td>2180-08-07 17:50:00</td>\n",
       "      <td>NaN</td>\n",
       "      <td>EW EMER.</td>\n",
       "      <td>P19UTS</td>\n",
       "      <td>EMERGENCY ROOM</td>\n",
       "      <td>HOSPICE</td>\n",
       "      <td>Medicaid</td>\n",
       "      <td>English</td>\n",
       "      <td>WIDOWED</td>\n",
       "      <td>WHITE</td>\n",
       "      <td>2180-08-05 20:58:00</td>\n",
       "      <td>2180-08-06 01:44:00</td>\n",
       "      <td>0</td>\n",
       "    </tr>\n",
       "    <tr>\n",
       "      <th>3</th>\n",
       "      <td>10000032</td>\n",
       "      <td>29079034</td>\n",
       "      <td>2180-07-23 12:35:00</td>\n",
       "      <td>2180-07-25 17:55:00</td>\n",
       "      <td>NaN</td>\n",
       "      <td>EW EMER.</td>\n",
       "      <td>P06OTX</td>\n",
       "      <td>EMERGENCY ROOM</td>\n",
       "      <td>HOME</td>\n",
       "      <td>Medicaid</td>\n",
       "      <td>English</td>\n",
       "      <td>WIDOWED</td>\n",
       "      <td>WHITE</td>\n",
       "      <td>2180-07-23 05:54:00</td>\n",
       "      <td>2180-07-23 14:00:00</td>\n",
       "      <td>0</td>\n",
       "    </tr>\n",
       "    <tr>\n",
       "      <th>4</th>\n",
       "      <td>10000068</td>\n",
       "      <td>25022803</td>\n",
       "      <td>2160-03-03 23:16:00</td>\n",
       "      <td>2160-03-04 06:26:00</td>\n",
       "      <td>NaN</td>\n",
       "      <td>EU OBSERVATION</td>\n",
       "      <td>P39NWO</td>\n",
       "      <td>EMERGENCY ROOM</td>\n",
       "      <td>NaN</td>\n",
       "      <td>NaN</td>\n",
       "      <td>English</td>\n",
       "      <td>SINGLE</td>\n",
       "      <td>WHITE</td>\n",
       "      <td>2160-03-03 21:55:00</td>\n",
       "      <td>2160-03-04 06:26:00</td>\n",
       "      <td>0</td>\n",
       "    </tr>\n",
       "    <tr>\n",
       "      <th>5</th>\n",
       "      <td>10000084</td>\n",
       "      <td>23052089</td>\n",
       "      <td>2160-11-21 01:56:00</td>\n",
       "      <td>2160-11-25 14:52:00</td>\n",
       "      <td>NaN</td>\n",
       "      <td>EW EMER.</td>\n",
       "      <td>P42H7G</td>\n",
       "      <td>WALK-IN/SELF REFERRAL</td>\n",
       "      <td>HOME HEALTH CARE</td>\n",
       "      <td>Medicare</td>\n",
       "      <td>English</td>\n",
       "      <td>MARRIED</td>\n",
       "      <td>WHITE</td>\n",
       "      <td>2160-11-20 20:36:00</td>\n",
       "      <td>2160-11-21 03:20:00</td>\n",
       "      <td>0</td>\n",
       "    </tr>\n",
       "    <tr>\n",
       "      <th>6</th>\n",
       "      <td>10000084</td>\n",
       "      <td>29888819</td>\n",
       "      <td>2160-12-28 05:11:00</td>\n",
       "      <td>2160-12-28 16:07:00</td>\n",
       "      <td>NaN</td>\n",
       "      <td>EU OBSERVATION</td>\n",
       "      <td>P35NE4</td>\n",
       "      <td>PHYSICIAN REFERRAL</td>\n",
       "      <td>NaN</td>\n",
       "      <td>Medicare</td>\n",
       "      <td>English</td>\n",
       "      <td>MARRIED</td>\n",
       "      <td>WHITE</td>\n",
       "      <td>2160-12-27 18:32:00</td>\n",
       "      <td>2160-12-28 16:07:00</td>\n",
       "      <td>0</td>\n",
       "    </tr>\n",
       "    <tr>\n",
       "      <th>7</th>\n",
       "      <td>10000108</td>\n",
       "      <td>27250926</td>\n",
       "      <td>2163-09-27 23:17:00</td>\n",
       "      <td>2163-09-28 09:04:00</td>\n",
       "      <td>NaN</td>\n",
       "      <td>EU OBSERVATION</td>\n",
       "      <td>P40JML</td>\n",
       "      <td>EMERGENCY ROOM</td>\n",
       "      <td>NaN</td>\n",
       "      <td>NaN</td>\n",
       "      <td>English</td>\n",
       "      <td>SINGLE</td>\n",
       "      <td>WHITE</td>\n",
       "      <td>2163-09-27 16:18:00</td>\n",
       "      <td>2163-09-28 09:04:00</td>\n",
       "      <td>0</td>\n",
       "    </tr>\n",
       "    <tr>\n",
       "      <th>8</th>\n",
       "      <td>10000117</td>\n",
       "      <td>22927623</td>\n",
       "      <td>2181-11-15 02:05:00</td>\n",
       "      <td>2181-11-15 14:52:00</td>\n",
       "      <td>NaN</td>\n",
       "      <td>EU OBSERVATION</td>\n",
       "      <td>P47EY8</td>\n",
       "      <td>EMERGENCY ROOM</td>\n",
       "      <td>NaN</td>\n",
       "      <td>Medicaid</td>\n",
       "      <td>English</td>\n",
       "      <td>DIVORCED</td>\n",
       "      <td>WHITE</td>\n",
       "      <td>2181-11-14 21:51:00</td>\n",
       "      <td>2181-11-15 09:57:00</td>\n",
       "      <td>0</td>\n",
       "    </tr>\n",
       "    <tr>\n",
       "      <th>9</th>\n",
       "      <td>10000117</td>\n",
       "      <td>27988844</td>\n",
       "      <td>2183-09-18 18:10:00</td>\n",
       "      <td>2183-09-21 16:30:00</td>\n",
       "      <td>NaN</td>\n",
       "      <td>OBSERVATION ADMIT</td>\n",
       "      <td>P13ACE</td>\n",
       "      <td>WALK-IN/SELF REFERRAL</td>\n",
       "      <td>HOME HEALTH CARE</td>\n",
       "      <td>Medicaid</td>\n",
       "      <td>English</td>\n",
       "      <td>DIVORCED</td>\n",
       "      <td>WHITE</td>\n",
       "      <td>2183-09-18 08:41:00</td>\n",
       "      <td>2183-09-18 20:20:00</td>\n",
       "      <td>0</td>\n",
       "    </tr>\n",
       "  </tbody>\n",
       "</table>\n",
       "</div>"
      ],
      "text/plain": [
       "   subject_id   hadm_id            admittime            dischtime deathtime  \\\n",
       "0    10000032  22595853  2180-05-06 22:23:00  2180-05-07 17:15:00       NaN   \n",
       "1    10000032  22841357  2180-06-26 18:27:00  2180-06-27 18:49:00       NaN   \n",
       "2    10000032  25742920  2180-08-05 23:44:00  2180-08-07 17:50:00       NaN   \n",
       "3    10000032  29079034  2180-07-23 12:35:00  2180-07-25 17:55:00       NaN   \n",
       "4    10000068  25022803  2160-03-03 23:16:00  2160-03-04 06:26:00       NaN   \n",
       "5    10000084  23052089  2160-11-21 01:56:00  2160-11-25 14:52:00       NaN   \n",
       "6    10000084  29888819  2160-12-28 05:11:00  2160-12-28 16:07:00       NaN   \n",
       "7    10000108  27250926  2163-09-27 23:17:00  2163-09-28 09:04:00       NaN   \n",
       "8    10000117  22927623  2181-11-15 02:05:00  2181-11-15 14:52:00       NaN   \n",
       "9    10000117  27988844  2183-09-18 18:10:00  2183-09-21 16:30:00       NaN   \n",
       "\n",
       "      admission_type admit_provider_id      admission_location  \\\n",
       "0             URGENT            P49AFC  TRANSFER FROM HOSPITAL   \n",
       "1           EW EMER.            P784FA          EMERGENCY ROOM   \n",
       "2           EW EMER.            P19UTS          EMERGENCY ROOM   \n",
       "3           EW EMER.            P06OTX          EMERGENCY ROOM   \n",
       "4     EU OBSERVATION            P39NWO          EMERGENCY ROOM   \n",
       "5           EW EMER.            P42H7G   WALK-IN/SELF REFERRAL   \n",
       "6     EU OBSERVATION            P35NE4      PHYSICIAN REFERRAL   \n",
       "7     EU OBSERVATION            P40JML          EMERGENCY ROOM   \n",
       "8     EU OBSERVATION            P47EY8          EMERGENCY ROOM   \n",
       "9  OBSERVATION ADMIT            P13ACE   WALK-IN/SELF REFERRAL   \n",
       "\n",
       "  discharge_location insurance language marital_status   race  \\\n",
       "0               HOME  Medicaid  English        WIDOWED  WHITE   \n",
       "1               HOME  Medicaid  English        WIDOWED  WHITE   \n",
       "2            HOSPICE  Medicaid  English        WIDOWED  WHITE   \n",
       "3               HOME  Medicaid  English        WIDOWED  WHITE   \n",
       "4                NaN       NaN  English         SINGLE  WHITE   \n",
       "5   HOME HEALTH CARE  Medicare  English        MARRIED  WHITE   \n",
       "6                NaN  Medicare  English        MARRIED  WHITE   \n",
       "7                NaN       NaN  English         SINGLE  WHITE   \n",
       "8                NaN  Medicaid  English       DIVORCED  WHITE   \n",
       "9   HOME HEALTH CARE  Medicaid  English       DIVORCED  WHITE   \n",
       "\n",
       "             edregtime            edouttime  hospital_expire_flag  \n",
       "0  2180-05-06 19:17:00  2180-05-06 23:30:00                     0  \n",
       "1  2180-06-26 15:54:00  2180-06-26 21:31:00                     0  \n",
       "2  2180-08-05 20:58:00  2180-08-06 01:44:00                     0  \n",
       "3  2180-07-23 05:54:00  2180-07-23 14:00:00                     0  \n",
       "4  2160-03-03 21:55:00  2160-03-04 06:26:00                     0  \n",
       "5  2160-11-20 20:36:00  2160-11-21 03:20:00                     0  \n",
       "6  2160-12-27 18:32:00  2160-12-28 16:07:00                     0  \n",
       "7  2163-09-27 16:18:00  2163-09-28 09:04:00                     0  \n",
       "8  2181-11-14 21:51:00  2181-11-15 09:57:00                     0  \n",
       "9  2183-09-18 08:41:00  2183-09-18 20:20:00                     0  "
      ]
     },
     "execution_count": 3,
     "metadata": {},
     "output_type": "execute_result"
    }
   ],
   "source": [
    "admissions.head(10)"
   ]
  },
  {
   "cell_type": "code",
   "execution_count": 4,
   "metadata": {},
   "outputs": [
    {
     "data": {
      "text/plain": [
       "223452"
      ]
     },
     "execution_count": 4,
     "metadata": {},
     "output_type": "execute_result"
    }
   ],
   "source": [
    "# count the number of distinct patients\n",
    "admissions.subject_id.nunique()"
   ]
  },
  {
   "cell_type": "markdown",
   "metadata": {},
   "source": [
    "## Import diagnosis_icd dataset"
   ]
  },
  {
   "cell_type": "code",
   "execution_count": 5,
   "metadata": {},
   "outputs": [
    {
     "name": "stdout",
     "output_type": "stream",
     "text": [
      "<class 'pandas.core.frame.DataFrame'>\n",
      "RangeIndex: 6364488 entries, 0 to 6364487\n",
      "Data columns (total 5 columns):\n",
      " #   Column       Dtype \n",
      "---  ------       ----- \n",
      " 0   subject_id   int64 \n",
      " 1   hadm_id      int64 \n",
      " 2   seq_num      int64 \n",
      " 3   icd_code     object\n",
      " 4   icd_version  int64 \n",
      "dtypes: int64(4), object(1)\n",
      "memory usage: 242.8+ MB\n"
     ]
    }
   ],
   "source": [
    "diagnosis_icd = pd.read_csv('../data/physionet.org/files/mimiciv/3.1/hosp/diagnoses_icd.csv')\n",
    "diagnosis_icd.info()\n"
   ]
  },
  {
   "cell_type": "code",
   "execution_count": 6,
   "metadata": {},
   "outputs": [
    {
     "data": {
      "application/vnd.microsoft.datawrangler.viewer.v0+json": {
       "columns": [
        {
         "name": "index",
         "rawType": "int64",
         "type": "integer"
        },
        {
         "name": "subject_id",
         "rawType": "int64",
         "type": "integer"
        },
        {
         "name": "hadm_id",
         "rawType": "int64",
         "type": "integer"
        },
        {
         "name": "seq_num",
         "rawType": "int64",
         "type": "integer"
        },
        {
         "name": "icd_code",
         "rawType": "object",
         "type": "string"
        },
        {
         "name": "icd_version",
         "rawType": "int64",
         "type": "integer"
        }
       ],
       "ref": "3ac09299-32bc-49f6-abe3-2021179910ba",
       "rows": [
        [
         "0",
         "10000032",
         "22595853",
         "1",
         "5723",
         "9"
        ],
        [
         "1",
         "10000032",
         "22595853",
         "2",
         "78959",
         "9"
        ],
        [
         "2",
         "10000032",
         "22595853",
         "3",
         "5715",
         "9"
        ],
        [
         "3",
         "10000032",
         "22595853",
         "4",
         "07070",
         "9"
        ],
        [
         "4",
         "10000032",
         "22595853",
         "5",
         "496",
         "9"
        ]
       ],
       "shape": {
        "columns": 5,
        "rows": 5
       }
      },
      "text/html": [
       "<div>\n",
       "<style scoped>\n",
       "    .dataframe tbody tr th:only-of-type {\n",
       "        vertical-align: middle;\n",
       "    }\n",
       "\n",
       "    .dataframe tbody tr th {\n",
       "        vertical-align: top;\n",
       "    }\n",
       "\n",
       "    .dataframe thead th {\n",
       "        text-align: right;\n",
       "    }\n",
       "</style>\n",
       "<table border=\"1\" class=\"dataframe\">\n",
       "  <thead>\n",
       "    <tr style=\"text-align: right;\">\n",
       "      <th></th>\n",
       "      <th>subject_id</th>\n",
       "      <th>hadm_id</th>\n",
       "      <th>seq_num</th>\n",
       "      <th>icd_code</th>\n",
       "      <th>icd_version</th>\n",
       "    </tr>\n",
       "  </thead>\n",
       "  <tbody>\n",
       "    <tr>\n",
       "      <th>0</th>\n",
       "      <td>10000032</td>\n",
       "      <td>22595853</td>\n",
       "      <td>1</td>\n",
       "      <td>5723</td>\n",
       "      <td>9</td>\n",
       "    </tr>\n",
       "    <tr>\n",
       "      <th>1</th>\n",
       "      <td>10000032</td>\n",
       "      <td>22595853</td>\n",
       "      <td>2</td>\n",
       "      <td>78959</td>\n",
       "      <td>9</td>\n",
       "    </tr>\n",
       "    <tr>\n",
       "      <th>2</th>\n",
       "      <td>10000032</td>\n",
       "      <td>22595853</td>\n",
       "      <td>3</td>\n",
       "      <td>5715</td>\n",
       "      <td>9</td>\n",
       "    </tr>\n",
       "    <tr>\n",
       "      <th>3</th>\n",
       "      <td>10000032</td>\n",
       "      <td>22595853</td>\n",
       "      <td>4</td>\n",
       "      <td>07070</td>\n",
       "      <td>9</td>\n",
       "    </tr>\n",
       "    <tr>\n",
       "      <th>4</th>\n",
       "      <td>10000032</td>\n",
       "      <td>22595853</td>\n",
       "      <td>5</td>\n",
       "      <td>496</td>\n",
       "      <td>9</td>\n",
       "    </tr>\n",
       "  </tbody>\n",
       "</table>\n",
       "</div>"
      ],
      "text/plain": [
       "   subject_id   hadm_id  seq_num icd_code  icd_version\n",
       "0    10000032  22595853        1     5723            9\n",
       "1    10000032  22595853        2    78959            9\n",
       "2    10000032  22595853        3     5715            9\n",
       "3    10000032  22595853        4    07070            9\n",
       "4    10000032  22595853        5      496            9"
      ]
     },
     "execution_count": 6,
     "metadata": {},
     "output_type": "execute_result"
    }
   ],
   "source": [
    "diagnosis_icd.head()"
   ]
  },
  {
   "cell_type": "code",
   "execution_count": 7,
   "metadata": {},
   "outputs": [
    {
     "data": {
      "application/vnd.microsoft.datawrangler.viewer.v0+json": {
       "columns": [
        {
         "name": "icd_version",
         "rawType": "int64",
         "type": "integer"
        },
        {
         "name": "proportion",
         "rawType": "float64",
         "type": "float"
        }
       ],
       "ref": "37d5e402-2776-40db-b1be-414657f269b9",
       "rows": [
        [
         "10",
         "0.5429732918028913"
        ],
        [
         "9",
         "0.4570267081971087"
        ]
       ],
       "shape": {
        "columns": 1,
        "rows": 2
       }
      },
      "text/plain": [
       "icd_version\n",
       "10    0.542973\n",
       "9     0.457027\n",
       "Name: proportion, dtype: float64"
      ]
     },
     "execution_count": 7,
     "metadata": {},
     "output_type": "execute_result"
    }
   ],
   "source": [
    "# count the percentage of icd9 and icd10 codes\n",
    "diagnosis_icd['icd_version'].value_counts(normalize=True)\n"
   ]
  },
  {
   "cell_type": "code",
   "execution_count": 8,
   "metadata": {},
   "outputs": [
    {
     "data": {
      "application/vnd.microsoft.datawrangler.viewer.v0+json": {
       "columns": [
        {
         "name": "icd_version",
         "rawType": "int64",
         "type": "integer"
        },
        {
         "name": "icd_code",
         "rawType": "int64",
         "type": "integer"
        }
       ],
       "ref": "487bb4a9-9303-4cae-8614-af1fe1165777",
       "rows": [
        [
         "9",
         "9143"
        ],
        [
         "10",
         "19440"
        ]
       ],
       "shape": {
        "columns": 1,
        "rows": 2
       }
      },
      "text/plain": [
       "icd_version\n",
       "9      9143\n",
       "10    19440\n",
       "Name: icd_code, dtype: int64"
      ]
     },
     "execution_count": 8,
     "metadata": {},
     "output_type": "execute_result"
    }
   ],
   "source": [
    "# count, for each icd category, the number of distinct icd codes\n",
    "diagnosis_icd.groupby('icd_version')['icd_code'].nunique()"
   ]
  },
  {
   "cell_type": "code",
   "execution_count": 9,
   "metadata": {},
   "outputs": [
    {
     "data": {
      "application/vnd.microsoft.datawrangler.viewer.v0+json": {
       "columns": [
        {
         "name": "icd_version",
         "rawType": "int64",
         "type": "integer"
        },
        {
         "name": "0",
         "rawType": "float64",
         "type": "float"
        }
       ],
       "ref": "be3afcfa-3c16-4bf7-a649-18c9fe7a28f2",
       "rows": [
        [
         "9",
         "318.13857595975065"
        ],
        [
         "10",
         "177.7647633744856"
        ]
       ],
       "shape": {
        "columns": 1,
        "rows": 2
       }
      },
      "text/plain": [
       "icd_version\n",
       "9     318.138576\n",
       "10    177.764763\n",
       "dtype: float64"
      ]
     },
     "execution_count": 9,
     "metadata": {},
     "output_type": "execute_result"
    }
   ],
   "source": [
    "# count mean occurrency for a single icd9 or icd10 codes in the dataset\n",
    "diagnosis_icd['icd_version'].value_counts()/diagnosis_icd.groupby('icd_version')['icd_code'].nunique()"
   ]
  },
  {
   "cell_type": "code",
   "execution_count": 10,
   "metadata": {},
   "outputs": [
    {
     "data": {
      "text/plain": [
       "0.8122680484559904"
      ]
     },
     "execution_count": 10,
     "metadata": {},
     "output_type": "execute_result"
    }
   ],
   "source": [
    "def calculate_icd_percentage(df, threshold):\n",
    "    \"\"\"\n",
    "    Calculate the percentage of distinct ICD codes that appear more than a given threshold in the dataset.\n",
    "    \n",
    "    Parameters:\n",
    "    df (pandas.DataFrame): The DataFrame containing the ICD codes.\n",
    "    threshold (int): The minimum number of occurrences for an ICD code to be included in the calculation.\n",
    "    \n",
    "    Returns:\n",
    "    float: The percentage of distinct ICD codes that appear more than the given threshold.\n",
    "    \"\"\"\n",
    "    icd_code_counts = df['icd_code'].value_counts()\n",
    "    icd_code_sum5000 = icd_code_counts[icd_code_counts > threshold]\n",
    "    return (len(icd_code_sum5000) / len(icd_code_counts)) * 100\n",
    "\n",
    "# Example usage\n",
    "calculate_icd_percentage(diagnosis_icd, 5000)"
   ]
  },
  {
   "cell_type": "code",
   "execution_count": 61,
   "metadata": {},
   "outputs": [
    {
     "data": {
      "image/png": "[encoded data removed]",
      "text/plain": [
       "<Figure size 1000x600 with 1 Axes>"
      ]
     },
     "metadata": {},
     "output_type": "display_data"
    }
   ],
   "source": [
    "def plot_icd_code_distribution(df, threshold=5000):\n",
    "    \"\"\"\n",
    "    Plots the distribution of ICD codes in a DataFrame, filtered by a specified threshold.\n",
    "    Parameters:\n",
    "    df (pandas.DataFrame): The DataFrame containing the ICD codes.\n",
    "    threshold (int, optional): The minimum number of occurrences for an ICD code to be included in the plot. Default is 5000.\n",
    "    Returns:\n",
    "    None: This function does not return any value. It displays a histogram plot of the ICD code distribution.\n",
    "    \"\"\"\n",
    "    # Filter the DataFrame based on the counts of the 'icd_code' column\n",
    "    icd_code_counts = df['icd_code'].value_counts()\n",
    "    filtered_df = df[df['icd_code'].isin(icd_code_counts[icd_code_counts > threshold].index)]\n",
    "    \n",
    "    # Create the histogram\n",
    "    plt.figure(figsize=(10, 6))\n",
    "    plt.hist(filtered_df['icd_code'].value_counts(), bins=100, color='steelblue', edgecolor='black')\n",
    "    \n",
    "    # Set axis labels and title\n",
    "    plt.xlabel('Number of Occurrences ', fontsize=12)\n",
    "    plt.ylabel('Number of Codes', fontsize=12)\n",
    "    plt.title('Distribution of ICD Codes', fontsize=14)\n",
    "    plt.grid(axis='y', linestyle='--', alpha=0.7)\n",
    "    \n",
    "    # Save or show the plot\n",
    "    plt.tight_layout()\n",
    "    plt.show()\n",
    "\n",
    "# Example usage\n",
    "plot_icd_code_distribution(diagnosis_icd, threshold=5000)"
   ]
  },
  {
   "cell_type": "code",
   "execution_count": 31,
   "metadata": {},
   "outputs": [
    {
     "name": "stdout",
     "output_type": "stream",
     "text": [
      "Total number of patients: 223452\n"
     ]
    }
   ],
   "source": [
    "# Count the total number of distinct patients in the admissions dataset\n",
    "total_patients = admissions['subject_id'].nunique()\n",
    "print(f\"Total number of patients: {total_patients}\")"
   ]
  },
  {
   "cell_type": "code",
   "execution_count": 12,
   "metadata": {},
   "outputs": [
    {
     "name": "stdout",
     "output_type": "stream",
     "text": [
      "<class 'pandas.core.frame.DataFrame'>\n",
      "RangeIndex: 5183974 entries, 0 to 5183973\n",
      "Data columns (total 5 columns):\n",
      " #   Column       Dtype \n",
      "---  ------       ----- \n",
      " 0   subject_id   int64 \n",
      " 1   hadm_id      int64 \n",
      " 2   seq_num      int64 \n",
      " 3   icd_code     object\n",
      " 4   icd_version  int64 \n",
      "dtypes: int64(4), object(1)\n",
      "memory usage: 197.8+ MB\n",
      "<class 'pandas.core.frame.DataFrame'>\n",
      "RangeIndex: 422739 entries, 0 to 422738\n",
      "Data columns (total 16 columns):\n",
      " #   Column                Non-Null Count   Dtype \n",
      "---  ------                --------------   ----- \n",
      " 0   subject_id            422739 non-null  int64 \n",
      " 1   hadm_id               422739 non-null  int64 \n",
      " 2   admittime             422739 non-null  object\n",
      " 3   dischtime             422739 non-null  object\n",
      " 4   deathtime             6539 non-null    object\n",
      " 5   admission_type        422739 non-null  object\n",
      " 6   admit_provider_id     422735 non-null  object\n",
      " 7   admission_location    422739 non-null  object\n",
      " 8   discharge_location    311044 non-null  object\n",
      " 9   insurance             418704 non-null  object\n",
      " 10  language              422506 non-null  object\n",
      " 11  marital_status        417964 non-null  object\n",
      " 12  race                  422739 non-null  object\n",
      " 13  edregtime             284997 non-null  object\n",
      " 14  edouttime             284997 non-null  object\n",
      " 15  hospital_expire_flag  422739 non-null  int64 \n",
      "dtypes: int64(3), object(13)\n",
      "memory usage: 51.6+ MB\n"
     ]
    },
    {
     "data": {
      "text/plain": [
       "(None, None)"
      ]
     },
     "execution_count": 12,
     "metadata": {},
     "output_type": "execute_result"
    }
   ],
   "source": [
    "def filter_diagnosis_icd(admissions_df, diagnosis_icd_df):\n",
    "    \"\"\"\n",
    "    Filters the admissions and diagnosis ICD dataframes to exclude patients who have been admitted to the hospital only once.\n",
    "    Parameters:\n",
    "    admissions_df (pd.DataFrame): DataFrame containing admissions data with at least a 'subject_id' column.\n",
    "    diagnosis_icd_df (pd.DataFrame): DataFrame containing diagnosis ICD data with at least a 'subject_id' column.\n",
    "    Returns:\n",
    "    tuple: A tuple containing two DataFrames:\n",
    "        - admissions_filtered (pd.DataFrame): Filtered admissions DataFrame with patients admitted more than once.\n",
    "        - diagnosis_icd_filtered (pd.DataFrame): Filtered diagnosis ICD DataFrame with patients admitted more than once.\n",
    "    \"\"\"\n",
    "    # Filter out from admissions table all the patients that have been admitted to the hospital only one time\n",
    "    admissions_filtered = admissions_df[admissions_df['subject_id'].isin(admissions_df['subject_id'].value_counts()[admissions_df['subject_id'].value_counts() > 1].index)]\n",
    "    admissions_filtered.reset_index(drop=True, inplace=True)\n",
    "\n",
    "    # Filter out from diagnosis_icd table all the patients that have been admitted to the hospital only one time\n",
    "    diagnosis_icd_filtered = diagnosis_icd_df[diagnosis_icd_df['subject_id'].isin(admissions_filtered['subject_id'])]\n",
    "    diagnosis_icd_filtered.reset_index(drop=True, inplace=True)\n",
    "    \n",
    "    return admissions_filtered, diagnosis_icd_filtered\n",
    "\n",
    "# Example usage\n",
    "admissions_filtered, diagnosis_icd_filtered = filter_diagnosis_icd(admissions, diagnosis_icd)\n",
    "diagnosis_icd_filtered.info(), admissions_filtered.info()"
   ]
  },
  {
   "cell_type": "code",
   "execution_count": 13,
   "metadata": {},
   "outputs": [
    {
     "data": {
      "text/plain": [
       "100163"
      ]
     },
     "execution_count": 13,
     "metadata": {},
     "output_type": "execute_result"
    }
   ],
   "source": [
    "# number of distinct patients that have been admitted to the hospital more than one time\n",
    "admissions_filtered['subject_id'].nunique()"
   ]
  },
  {
   "cell_type": "code",
   "execution_count": 14,
   "metadata": {},
   "outputs": [
    {
     "data": {
      "text/plain": [
       "44.825286862502914"
      ]
     },
     "execution_count": 14,
     "metadata": {},
     "output_type": "execute_result"
    }
   ],
   "source": [
    "# percentage of patients that have been admitted to the hospital more than one time\n",
    "(admissions_filtered['subject_id'].nunique()/admissions['subject_id'].nunique())*100"
   ]
  },
  {
   "cell_type": "code",
   "execution_count": 15,
   "metadata": {},
   "outputs": [
    {
     "data": {
      "text/plain": [
       "81.89850543613909"
      ]
     },
     "execution_count": 15,
     "metadata": {},
     "output_type": "execute_result"
    }
   ],
   "source": [
    "# percentage of patients that have no more than five visits to the hospital\n",
    "(admissions_filtered['subject_id'].value_counts() <= 5).sum()/admissions_filtered['subject_id'].nunique()*100"
   ]
  },
  {
   "cell_type": "markdown",
   "metadata": {},
   "source": [
    "# Convert ICD10 code to ICD9 code"
   ]
  },
  {
   "cell_type": "code",
   "execution_count": 16,
   "metadata": {},
   "outputs": [
    {
     "data": {
      "application/vnd.microsoft.datawrangler.viewer.v0+json": {
       "columns": [
        {
         "name": "index",
         "rawType": "int64",
         "type": "integer"
        },
        {
         "name": "icd10",
         "rawType": "object",
         "type": "string"
        },
        {
         "name": "icd9",
         "rawType": "object",
         "type": "string"
        },
        {
         "name": "flags",
         "rawType": "object",
         "type": "string"
        }
       ],
       "ref": "0eb9496e-68f5-4cc3-a7b6-226a75802eb7",
       "rows": [
        [
         "0",
         "A000",
         "0010",
         "00000"
        ],
        [
         "1",
         "A001",
         "0011",
         "00000"
        ],
        [
         "2",
         "A009",
         "0019",
         "00000"
        ],
        [
         "3",
         "A0100",
         "0020",
         "10000"
        ],
        [
         "4",
         "A0101",
         "0020",
         "10000"
        ]
       ],
       "shape": {
        "columns": 3,
        "rows": 5
       }
      },
      "text/html": [
       "<div>\n",
       "<style scoped>\n",
       "    .dataframe tbody tr th:only-of-type {\n",
       "        vertical-align: middle;\n",
       "    }\n",
       "\n",
       "    .dataframe tbody tr th {\n",
       "        vertical-align: top;\n",
       "    }\n",
       "\n",
       "    .dataframe thead th {\n",
       "        text-align: right;\n",
       "    }\n",
       "</style>\n",
       "<table border=\"1\" class=\"dataframe\">\n",
       "  <thead>\n",
       "    <tr style=\"text-align: right;\">\n",
       "      <th></th>\n",
       "      <th>icd10</th>\n",
       "      <th>icd9</th>\n",
       "      <th>flags</th>\n",
       "    </tr>\n",
       "  </thead>\n",
       "  <tbody>\n",
       "    <tr>\n",
       "      <th>0</th>\n",
       "      <td>A000</td>\n",
       "      <td>0010</td>\n",
       "      <td>00000</td>\n",
       "    </tr>\n",
       "    <tr>\n",
       "      <th>1</th>\n",
       "      <td>A001</td>\n",
       "      <td>0011</td>\n",
       "      <td>00000</td>\n",
       "    </tr>\n",
       "    <tr>\n",
       "      <th>2</th>\n",
       "      <td>A009</td>\n",
       "      <td>0019</td>\n",
       "      <td>00000</td>\n",
       "    </tr>\n",
       "    <tr>\n",
       "      <th>3</th>\n",
       "      <td>A0100</td>\n",
       "      <td>0020</td>\n",
       "      <td>10000</td>\n",
       "    </tr>\n",
       "    <tr>\n",
       "      <th>4</th>\n",
       "      <td>A0101</td>\n",
       "      <td>0020</td>\n",
       "      <td>10000</td>\n",
       "    </tr>\n",
       "  </tbody>\n",
       "</table>\n",
       "</div>"
      ],
      "text/plain": [
       "   icd10  icd9  flags\n",
       "0   A000  0010  00000\n",
       "1   A001  0011  00000\n",
       "2   A009  0019  00000\n",
       "3  A0100  0020  10000\n",
       "4  A0101  0020  10000"
      ]
     },
     "execution_count": 16,
     "metadata": {},
     "output_type": "execute_result"
    }
   ],
   "source": [
    "# load 2018_I10gem.txt file\n",
    "icd10_gem = pd.read_csv('../data/diagnosis_gems_2018/2018_I10gem.txt',sep='\\s+' , header=None, names=['icd10', 'icd9', 'flags'], dtype={'icd10': str, 'icd9': str, 'flags': str})\n",
    "icd10_gem.head()"
   ]
  },
  {
   "cell_type": "code",
   "execution_count": 17,
   "metadata": {},
   "outputs": [
    {
     "name": "stdout",
     "output_type": "stream",
     "text": [
      "<class 'pandas.core.frame.DataFrame'>\n",
      "RangeIndex: 81593 entries, 0 to 81592\n",
      "Data columns (total 3 columns):\n",
      " #   Column  Non-Null Count  Dtype \n",
      "---  ------  --------------  ----- \n",
      " 0   icd10   81593 non-null  object\n",
      " 1   icd9    81593 non-null  object\n",
      " 2   flags   81593 non-null  object\n",
      "dtypes: object(3)\n",
      "memory usage: 1.9+ MB\n"
     ]
    }
   ],
   "source": [
    "icd10_gem.info()"
   ]
  },
  {
   "cell_type": "code",
   "execution_count": 18,
   "metadata": {},
   "outputs": [
    {
     "data": {
      "text/plain": [
       "71704"
      ]
     },
     "execution_count": 18,
     "metadata": {},
     "output_type": "execute_result"
    }
   ],
   "source": [
    "icd10_gem['icd10'].nunique()"
   ]
  },
  {
   "cell_type": "code",
   "execution_count": 19,
   "metadata": {},
   "outputs": [],
   "source": [
    "# Function to map ICD-10 codes to ICD-9 codes\n",
    "def icd10_to_icd9(df, df_gem):\n",
    "    \"\"\"\n",
    "    Convert ICD-10 codes in a DataFrame to ICD-9 codes using a given GEM (General Equivalence Mappings) DataFrame.\n",
    "\n",
    "    Parameters:\n",
    "    df (pd.DataFrame): DataFrame containing the data with ICD codes. It must have columns 'icd_code' and 'icd_version'.\n",
    "    df_gem (pd.DataFrame): DataFrame containing the GEM mappings between ICD-10 and ICD-9 codes. It must have columns 'icd10' and 'icd9'.\n",
    "\n",
    "    Returns:\n",
    "    pd.DataFrame: DataFrame with ICD-10 codes converted to ICD-9 codes where applicable. The 'icd_version' column is updated to 9 for converted codes.\n",
    "    \n",
    "    Notes:\n",
    "    - If an ICD-10 code does not have a corresponding ICD-9 mapping, the function assigns 'none' to the 'icd_code' and sets 'icd_version' to 9.\n",
    "    - If the 'icd_version' is not 10, the function leaves the 'icd_code' and 'icd_version' unchanged.\n",
    "    \"\"\"\n",
    "    def map_code(row):\n",
    "        # Check if the version is ICD-10\n",
    "        if row['icd_version'] == 10:\n",
    "            # Find the ICD-9 mapping\n",
    "            mapping = df_gem[df_gem['icd10'] == row['icd_code']]\n",
    "            if not mapping.empty:\n",
    "                return mapping['icd9'].iloc[0], 9  # Map to ICD-9 and set version to 9\n",
    "            else:\n",
    "                return 'none', 9  # No mapping found, set to 'none' and version to 9\n",
    "        else:\n",
    "            # If version is not 10, keep the value unchanged\n",
    "            return row['icd_code'], row['icd_version']\n",
    "\n",
    "    # Apply the mapping function row by row and unpack the results into separate columns\n",
    "    df[['icd_code', 'icd_version']] = pd.DataFrame(df.apply(map_code, axis=1).tolist(), index=df.index)\n",
    "    return df"
   ]
  },
  {
   "cell_type": "code",
   "execution_count": 20,
   "metadata": {},
   "outputs": [
    {
     "name": "stderr",
     "output_type": "stream",
     "text": [
      "/var/folders/4b/mr1zrd510kl9vrt3d735hy1m0000gn/T/ipykernel_5688/1428833956.py:31: SettingWithCopyWarning: \n",
      "A value is trying to be set on a copy of a slice from a DataFrame.\n",
      "Try using .loc[row_indexer,col_indexer] = value instead\n",
      "\n",
      "See the caveats in the documentation: https://pandas.pydata.org/pandas-docs/stable/user_guide/indexing.html#returning-a-view-versus-a-copy\n",
      "  df[['icd_code', 'icd_version']] = pd.DataFrame(df.apply(map_code, axis=1).tolist(), index=df.index)\n"
     ]
    }
   ],
   "source": [
    "diagnosis_icd_filtered_omogeneus = icd10_to_icd9(diagnosis_icd_filtered, icd10_gem)"
   ]
  },
  {
   "cell_type": "code",
   "execution_count": 41,
   "metadata": {},
   "outputs": [
    {
     "data": {
      "text/plain": [
       "5101010"
      ]
     },
     "execution_count": 41,
     "metadata": {},
     "output_type": "execute_result"
    }
   ],
   "source": [
    "# check how much 'none' string in the icd_code column\n",
    "diagnosis_icd_filtered_omogeneus['icd_code'].count()"
   ]
  },
  {
   "cell_type": "code",
   "execution_count": 22,
   "metadata": {},
   "outputs": [
    {
     "name": "stdout",
     "output_type": "stream",
     "text": [
      "<class 'pandas.core.frame.DataFrame'>\n",
      "RangeIndex: 5101010 entries, 0 to 5101009\n",
      "Data columns (total 5 columns):\n",
      " #   Column       Dtype \n",
      "---  ------       ----- \n",
      " 0   subject_id   int64 \n",
      " 1   hadm_id      int64 \n",
      " 2   seq_num      int64 \n",
      " 3   icd_code     object\n",
      " 4   icd_version  int64 \n",
      "dtypes: int64(4), object(1)\n",
      "memory usage: 194.6+ MB\n"
     ]
    }
   ],
   "source": [
    "def clean_diagnosis_icd(df):\n",
    "    \"\"\"\n",
    "    Cleans the diagnosis ICD DataFrame by removing rows with 'none' and 'NoDx' in the 'icd_code' column.\n",
    "    Parameters:\n",
    "    df (pd.DataFrame): The DataFrame containing the ICD codes.\n",
    "    Returns:\n",
    "    pd.DataFrame: The cleaned DataFrame with rows containing 'none' and 'NoDx' removed.\n",
    "    \"\"\"\n",
    "    # Delete rows with 'none' and 'NoDx' strings in the icd_code column\n",
    "    df_cleaned = df[~df['icd_code'].isin(['none', 'NoDx'])]\n",
    "    df_cleaned.reset_index(drop=True, inplace=True)\n",
    "    return df_cleaned\n",
    "\n",
    "# Example usage\n",
    "diagnosis_icd_filtered_omogeneus = clean_diagnosis_icd(diagnosis_icd_filtered_omogeneus)\n",
    "diagnosis_icd_filtered_omogeneus.info()"
   ]
  },
  {
   "cell_type": "markdown",
   "metadata": {},
   "source": [
    "# Convert ICD9 code to CCS code"
   ]
  },
  {
   "cell_type": "code",
   "execution_count": 23,
   "metadata": {},
   "outputs": [
    {
     "name": "stdout",
     "output_type": "stream",
     "text": [
      "<class 'pandas.core.frame.DataFrame'>\n",
      "RangeIndex: 15073 entries, 0 to 15072\n",
      "Data columns (total 6 columns):\n",
      " #   Column                             Non-Null Count  Dtype \n",
      "---  ------                             --------------  ----- \n",
      " 0   icd_code                           15073 non-null  object\n",
      " 1   ccs_category                       15073 non-null  Int16 \n",
      " 2   CCS CATEGORY DESCRIPTION           15073 non-null  object\n",
      " 3   ICD-9-CM CODE DESCRIPTION          15073 non-null  object\n",
      " 4   OPTIONAL CCS CATEGORY              15073 non-null  object\n",
      " 5   OPTIONAL CCS CATEGORY DESCRIPTION  15073 non-null  object\n",
      "dtypes: Int16(1), object(5)\n",
      "memory usage: 633.1+ KB\n"
     ]
    }
   ],
   "source": [
    "# load icd9_to_ccs_dx2015 csv file\n",
    "icd9_to_ccs_dx = pd.read_csv('../data/Single_Level_CCS_2015/icd9_to_ccs_dx2015.csv', sep=\",\", quotechar=\"'\", dtype={'ICD-9-CM CODE': str, 'CCS CATEGORY': 'Int16'})\n",
    "icd9_to_ccs_dx.rename(columns={'ICD-9-CM CODE': 'icd_code', 'CCS CATEGORY': 'ccs_category'}, inplace=True)\n",
    "icd9_to_ccs_dx['icd_code'] = icd9_to_ccs_dx['icd_code'].str.strip()\n",
    "icd9_to_ccs_dx.info()"
   ]
  },
  {
   "cell_type": "code",
   "execution_count": 24,
   "metadata": {},
   "outputs": [
    {
     "name": "stdout",
     "output_type": "stream",
     "text": [
      "<class 'pandas.core.frame.DataFrame'>\n",
      "RangeIndex: 5101010 entries, 0 to 5101009\n",
      "Data columns (total 6 columns):\n",
      " #   Column        Dtype \n",
      "---  ------        ----- \n",
      " 0   subject_id    int64 \n",
      " 1   hadm_id       int64 \n",
      " 2   seq_num       int64 \n",
      " 3   icd_code      object\n",
      " 4   icd_version   int64 \n",
      " 5   ccs_category  Int16 \n",
      "dtypes: Int16(1), int64(4), object(1)\n",
      "memory usage: 209.2+ MB\n"
     ]
    }
   ],
   "source": [
    "def convert_icd9_to_ccs(diagnosis_df, icd9_to_ccs_df):\n",
    "    \"\"\"\n",
    "    Converts ICD-9 codes in the diagnosis DataFrame to CCS categories using the provided mapping DataFrame.\n",
    "    Parameters:\n",
    "    diagnosis_df (pd.DataFrame): The DataFrame containing the ICD codes.\n",
    "    icd9_to_ccs_df (pd.DataFrame): The DataFrame containing the mapping from ICD-9 codes to CCS categories.\n",
    "    Returns:\n",
    "    pd.DataFrame: The DataFrame with an additional 'ccs_category' column containing the CCS categories.\n",
    "    \"\"\"\n",
    "    # Select only the columns that are useful for the analysis\n",
    "    icd9_to_ccs_df = icd9_to_ccs_df[['icd_code', 'ccs_category']]\n",
    "    \n",
    "    # Merge diagnosis_df with icd9_to_ccs_df using the icd_code column as pivot\n",
    "    diagnosis_df_ccs = diagnosis_df.merge(icd9_to_ccs_df, on='icd_code', how='left')\n",
    "    \n",
    "    return diagnosis_df_ccs\n",
    "\n",
    "# Example usage\n",
    "diagnosis_icd_filtered_omogeneus_ccs = convert_icd9_to_ccs(diagnosis_icd_filtered_omogeneus, icd9_to_ccs_dx)\n",
    "diagnosis_icd_filtered_omogeneus_ccs.info()"
   ]
  },
  {
   "cell_type": "code",
   "execution_count": 25,
   "metadata": {},
   "outputs": [
    {
     "data": {
      "text/plain": [
       "280"
      ]
     },
     "execution_count": 25,
     "metadata": {},
     "output_type": "execute_result"
    }
   ],
   "source": [
    "# number of CCS categories\n",
    "diagnosis_icd_filtered_omogeneus_ccs['ccs_category'].nunique()"
   ]
  },
  {
   "cell_type": "code",
   "execution_count": 26,
   "metadata": {},
   "outputs": [
    {
     "name": "stdout",
     "output_type": "stream",
     "text": [
      "<class 'pandas.core.frame.DataFrame'>\n",
      "RangeIndex: 5101010 entries, 0 to 5101009\n",
      "Data columns (total 6 columns):\n",
      " #   Column        Dtype \n",
      "---  ------        ----- \n",
      " 0   subject_id    int64 \n",
      " 1   hadm_id       int64 \n",
      " 2   seq_num       int64 \n",
      " 3   icd_code      object\n",
      " 4   icd_version   int64 \n",
      " 5   ccs_category  Int16 \n",
      "dtypes: Int16(1), int64(4), object(1)\n",
      "memory usage: 209.2+ MB\n"
     ]
    }
   ],
   "source": [
    "diagnosis_icd_filtered_omogeneus_ccs.info()"
   ]
  },
  {
   "cell_type": "code",
   "execution_count": 44,
   "metadata": {},
   "outputs": [
    {
     "name": "stdout",
     "output_type": "stream",
     "text": [
      "ccs_category\n",
      "259     237330\n",
      "101     173421\n",
      "257     150190\n",
      "53      148352\n",
      "99      142896\n",
      "         ...  \n",
      "2602         9\n",
      "194          2\n",
      "220          2\n",
      "223          1\n",
      "219          1\n",
      "Name: count, Length: 280, dtype: Int64\n"
     ]
    }
   ],
   "source": [
    "print(diagnosis_icd_filtered_omogeneus_ccs['ccs_category'].value_counts())"
   ]
  },
  {
   "cell_type": "code",
   "execution_count": 62,
   "metadata": {},
   "outputs": [
    {
     "data": {
      "image/png": "[encoded data removed]",
      "text/plain": [
       "<Figure size 1200x600 with 1 Axes>"
      ]
     },
     "metadata": {},
     "output_type": "display_data"
    }
   ],
   "source": [
    "# Plot a histogram of CCS code occurrences\n",
    "plt.figure(figsize=(12, 6))\n",
    "plt.hist(diagnosis_icd_filtered_omogeneus_ccs['ccs_category'].value_counts(),bins=100, color='steelblue', edgecolor='black')\n",
    "plt.xlabel('Number of Occurrences')\n",
    "plt.ylabel('Number of Codes')\n",
    "plt.title('Disctribution of CCS Categories')\n",
    "plt.grid(axis='y', linestyle='--', alpha=0.7)\n",
    "plt.tight_layout()\n",
    "plt.show()"
   ]
  },
  {
   "cell_type": "markdown",
   "metadata": {},
   "source": [
    "### Save the dataset"
   ]
  },
  {
   "cell_type": "code",
   "execution_count": 27,
   "metadata": {},
   "outputs": [],
   "source": [
    "# save the diagnosis_icd_filtered_omogeneus_ccs DataFrame to a csv file\n",
    "diagnosis_icd_filtered_omogeneus_ccs.to_csv('../data/filtered_dataset/diagnosis_icd_filtered_omogeneus_ccs.csv', index=False)\n",
    "# save admissions_filtered DataFrame to a csv file\n",
    "admissions_filtered.to_csv('../data/filtered_dataset/admissions_filtered.csv', index=False)"
   ]
  }
 ],
 "metadata": {
  "kernelspec": {
   "display_name": "Python 3",
   "language": "python",
   "name": "python3"
  },
  "language_info": {
   "codemirror_mode": {
    "name": "ipython",
    "version": 3
   },
   "file_extension": ".py",
   "mimetype": "text/x-python",
   "name": "python",
   "nbconvert_exporter": "python",
   "pygments_lexer": "ipython3",
   "version": "3.11.10"
  }
 },
 "nbformat": 4,
 "nbformat_minor": 2
}
